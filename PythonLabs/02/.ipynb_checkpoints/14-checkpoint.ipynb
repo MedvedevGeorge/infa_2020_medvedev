{
 "cells": [
  {
   "cell_type": "code",
   "execution_count": 13,
   "metadata": {
    "scrolled": true
   },
   "outputs": [],
   "source": [
    "# Медведев Георгий; лаб.2, упр.14\n",
    "\n",
    "import turtle as t\n",
    "\n",
    "def n_star(n): #функция построения n-конечной звезды\n",
    "    for i in range(n):   \n",
    "        t.forward(100)\n",
    "        t.left(180 - 360/(2*n))\n",
    "\n",
    "t.penup()\n",
    "t.goto(-100, 0) #сместились влево чтобы уместить оба рисунка на экране\n",
    "t.pendown()\n",
    "n_star(5)\n",
    "t.penup()\n",
    "t.goto(100, 0) #теперь сместились вправо\n",
    "t.pendown()\n",
    "n_star(11)\n",
    "        \n",
    "t.exitonclick()"
   ]
  },
  {
   "cell_type": "code",
   "execution_count": null,
   "metadata": {},
   "outputs": [],
   "source": []
  }
 ],
 "metadata": {
  "kernelspec": {
   "display_name": "Python 3",
   "language": "python",
   "name": "python3"
  },
  "language_info": {
   "codemirror_mode": {
    "name": "ipython",
    "version": 3
   },
   "file_extension": ".py",
   "mimetype": "text/x-python",
   "name": "python",
   "nbconvert_exporter": "python",
   "pygments_lexer": "ipython3",
   "version": "3.8.3"
  }
 },
 "nbformat": 4,
 "nbformat_minor": 4
}
