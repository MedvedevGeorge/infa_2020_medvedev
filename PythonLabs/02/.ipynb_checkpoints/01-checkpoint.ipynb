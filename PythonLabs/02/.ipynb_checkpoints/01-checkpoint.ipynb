{
 "cells": [
  {
   "cell_type": "code",
   "execution_count": 5,
   "metadata": {},
   "outputs": [
    {
     "name": "stdout",
     "output_type": "stream",
     "text": [
      "Катет a 3\n",
      "Катет b 4\n",
      "Длина гипотенузы равна  5.0\n"
     ]
    }
   ],
   "source": [
    "# Медведев Георгий; лаб.2, упр.1\n",
    "\n",
    "a = int(input('Катет a: '))\n",
    "b = int(input('Катет b: '))\n",
    "c = (a ** 2 + b ** 2) ** 0.5\n",
    "print('Длина гипотенузы равна ', c)\n",
    "\n",
    "# не очень понял смысл упражнения, поэтому слегка его модифицировал: теперь катеты можно вводить самому"
   ]
  },
  {
   "cell_type": "code",
   "execution_count": null,
   "metadata": {},
   "outputs": [],
   "source": []
  }
 ],
 "metadata": {
  "kernelspec": {
   "display_name": "Python 3",
   "language": "python",
   "name": "python3"
  },
  "language_info": {
   "codemirror_mode": {
    "name": "ipython",
    "version": 3
   },
   "file_extension": ".py",
   "mimetype": "text/x-python",
   "name": "python",
   "nbconvert_exporter": "python",
   "pygments_lexer": "ipython3",
   "version": "3.8.3"
  }
 },
 "nbformat": 4,
 "nbformat_minor": 4
}
