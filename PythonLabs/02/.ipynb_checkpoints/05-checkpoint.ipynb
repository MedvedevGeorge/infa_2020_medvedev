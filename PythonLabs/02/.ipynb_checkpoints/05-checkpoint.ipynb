{
 "cells": [
  {
   "cell_type": "code",
   "execution_count": 11,
   "metadata": {},
   "outputs": [],
   "source": [
    "# Медведев Георгий; лаб.2, упр.5\n",
    "\n",
    "import turtle\n",
    "\n",
    "a = 20\n",
    "for i in range(10):   \n",
    "    for j in range(4):\n",
    "        turtle.forward(a) # квадарат: общий вид\n",
    "        turtle.left(90)\n",
    "    turtle.penup()\n",
    "    turtle.backward(10)\n",
    "    turtle.right(90)\n",
    "    turtle.forward(10)\n",
    "    turtle.left(90)\n",
    "    turtle.pendown()\n",
    "    a += 20\n",
    "\n",
    "turtle.exitonclick()"
   ]
  },
  {
   "cell_type": "code",
   "execution_count": null,
   "metadata": {},
   "outputs": [],
   "source": []
  }
 ],
 "metadata": {
  "kernelspec": {
   "display_name": "Python 3",
   "language": "python",
   "name": "python3"
  },
  "language_info": {
   "codemirror_mode": {
    "name": "ipython",
    "version": 3
   },
   "file_extension": ".py",
   "mimetype": "text/x-python",
   "name": "python",
   "nbconvert_exporter": "python",
   "pygments_lexer": "ipython3",
   "version": "3.8.3"
  }
 },
 "nbformat": 4,
 "nbformat_minor": 4
}
