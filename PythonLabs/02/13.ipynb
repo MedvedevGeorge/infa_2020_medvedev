{
 "cells": [
  {
   "cell_type": "code",
   "execution_count": 33,
   "metadata": {
    "scrolled": true
   },
   "outputs": [],
   "source": [
    "# Медведев Георгий; лаб.2, упр.13\n",
    "\n",
    "import turtle as t\n",
    "\n",
    "def arc(r): \n",
    "    for i in range(60):   \n",
    "        t.forward(r)\n",
    "        t.left(3)\n",
    "\n",
    "def circle(r): \n",
    "    for i in range(120):   \n",
    "        t.forward(r)\n",
    "        t.left(3)\n",
    "\n",
    "t.fillcolor('yellow') #голова\n",
    "t.begin_fill()\n",
    "circle(5)\n",
    "t.end_fill()\n",
    "\n",
    "t.penup() #правый глаз\n",
    "t.goto(40, 120)\n",
    "t.pendown()\n",
    "t.fillcolor('green')\n",
    "t.begin_fill()\n",
    "circle(1)\n",
    "t.end_fill()\n",
    "\n",
    "t.penup() #левый глаз\n",
    "t.goto(-40, 120)\n",
    "t.pendown()\n",
    "t.fillcolor('green')\n",
    "t.begin_fill()\n",
    "circle(1)\n",
    "t.end_fill()\n",
    "\n",
    "t.penup() #нос\n",
    "t.goto(0, 90)\n",
    "t.pendown()\n",
    "t.width(5)\n",
    "t.color()\n",
    "t.right(90)\n",
    "t.forward(30)\n",
    "\n",
    "t.penup() #рот\n",
    "t.goto(-40, 60)\n",
    "t.pendown()\n",
    "t.width(5)\n",
    "t.color('red')\n",
    "#t.right(90)\n",
    "arc(2)\n",
    "        \n",
    "t.exitonclick()"
   ]
  },
  {
   "cell_type": "code",
   "execution_count": null,
   "metadata": {},
   "outputs": [],
   "source": []
  }
 ],
 "metadata": {
  "kernelspec": {
   "display_name": "Python 3",
   "language": "python",
   "name": "python3"
  },
  "language_info": {
   "codemirror_mode": {
    "name": "ipython",
    "version": 3
   },
   "file_extension": ".py",
   "mimetype": "text/x-python",
   "name": "python",
   "nbconvert_exporter": "python",
   "pygments_lexer": "ipython3",
   "version": "3.8.3"
  }
 },
 "nbformat": 4,
 "nbformat_minor": 4
}
