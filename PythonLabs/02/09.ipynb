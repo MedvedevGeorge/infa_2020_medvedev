{
 "cells": [
  {
   "cell_type": "code",
   "execution_count": 20,
   "metadata": {},
   "outputs": [],
   "source": [
    "# Медведев Георгий; лаб.2, упр.9\n",
    "\n",
    "import turtle as t\n",
    "import numpy as np\n",
    "\n",
    "def n_angle_shape(n, a_size): #функция рисующая правильный n-угольник со стороной a_size\n",
    "    t.left(90 + 360/(2*n))\n",
    "    for i in range(n-1):\n",
    "        t.forward(a_size)\n",
    "        t.left(360/n)\n",
    "    t.forward(a_size)\n",
    "    t.right(90 - 360/(2*n))\n",
    "\n",
    "def size(r, n): #функция задающая сторону правильного n-уголника, в зависимости от радиуса описаной окружности\n",
    "    return(2*r*np.sin(np.pi/n))\n",
    "\n",
    "R = 20\n",
    "for i in range(3, 13, 1):   \n",
    "    n_angle_shape(i, size(R, i))\n",
    "    t.penup()\n",
    "    t.forward(10)\n",
    "    t.pendown()\n",
    "    R += 10\n",
    "\n",
    "t.exitonclick()"
   ]
  },
  {
   "cell_type": "code",
   "execution_count": null,
   "metadata": {},
   "outputs": [],
   "source": []
  }
 ],
 "metadata": {
  "kernelspec": {
   "display_name": "Python 3",
   "language": "python",
   "name": "python3"
  },
  "language_info": {
   "codemirror_mode": {
    "name": "ipython",
    "version": 3
   },
   "file_extension": ".py",
   "mimetype": "text/x-python",
   "name": "python",
   "nbconvert_exporter": "python",
   "pygments_lexer": "ipython3",
   "version": "3.8.3"
  }
 },
 "nbformat": 4,
 "nbformat_minor": 4
}
