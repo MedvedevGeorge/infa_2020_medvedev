{
 "cells": [
  {
   "cell_type": "code",
   "execution_count": 1,
   "metadata": {},
   "outputs": [
    {
     "name": "stdout",
     "output_type": "stream",
     "text": [
      "pygame 1.9.6\n",
      "Hello from the pygame community. https://www.pygame.org/contribute.html\n"
     ]
    }
   ],
   "source": [
    "# Медведев Георгий; лаб.4, упр.2\n",
    "\n",
    "import numpy as np\n",
    "import pygame\n",
    "from pygame.draw import *\n",
    "\n",
    "pygame.init()\n",
    "\n",
    "FPS = 30\n",
    "screen = pygame.display.set_mode((400, 400))\n",
    "screen.fill((128, 128, 128))\n",
    "\n",
    "\n",
    "circle(screen, (255, 218, 185), (50, 40), 30)                        #кисти\n",
    "circle(screen, (255, 218, 185), (350, 40), 30)\n",
    "rect(screen, (0, 255, 0), ((0, 0), (400, 40)))                       #плакат\n",
    "circle(screen, (255, 140, 0), (200, 400), 150)                       #тело\n",
    "circle(screen, (255, 218, 185), (200, 200), 110)                     #голова\n",
    "polygon(screen, (255, 0, 0), [(150, 250), (250, 250), (200, 275)])   #рот \n",
    "polygon(screen, (139, 69, 19), [(185, 200), (215, 200), (200, 215)]) #нос\n",
    "circle(screen, (70, 130, 180), (250, 175), 20)                       #правый глаз\n",
    "circle(screen, (0, 0, 0), (250, 175), 7)                             #правый зрачок\n",
    "circle(screen, (70, 130, 180), (400 - 250, 175), 20)                 #левый глаз\n",
    "circle(screen, (0, 0, 0), (400 - 250, 175), 7)                       #левый зрачок\n",
    "polygon(screen, (255, 218, 185), [(340, 50), (360, 50),              #правая рука\n",
    "                               (350, 350), (330, 350)])\n",
    "polygon(screen, (255, 218, 185), [(400 - 340, 50), (400 - 360, 50),  #левая рука\n",
    "                               (400 - 350, 350), (400 - 330, 350)])\n",
    "polygon(screen, (255, 140, 0), [(300, 300), (375, 325),              #правый рукав\n",
    "                               (350, 375), (300, 375), (275, 325)])\n",
    "polygon(screen, (0, 0, 0), [(300, 300), (375, 325),                  #правый рукав (обводка)\n",
    "                               (350, 375), (300, 375), (275, 325)], 1)\n",
    "polygon(screen, (255, 140, 0), [(400 - 300, 300), (400 - 375, 325),  #левый рукав\n",
    "                               (400 - 350, 375), (400 - 300, 375), (400 - 275, 325)])\n",
    "polygon(screen, (0, 0, 0), [(400 - 300, 300), (400 - 375, 325),      #левый рукав (обводка)\n",
    "                               (400 - 350, 375), (400 - 300, 375), (400 - 275, 325)], 1)\n",
    "\n",
    "#волосы\n",
    "a = 0.1 \n",
    "A = [[200, 75], [190, 100], [210, 100]]\n",
    "\n",
    "for i in range(10):\n",
    "    polygon(screen, (139, 0, 139), A)\n",
    "    for j in range(3):\n",
    "            x = (A[j][0] - 200)*np.cos(a) - (A[j][1] - 200)*np.sin(a) + 200\n",
    "            y = (A[j][0] - 200)*np.sin(a) + (A[j][1] - 200)*np.cos(a) + 200\n",
    "            A[j][1] = int(y)\n",
    "            A[j][0] = int(x)\n",
    "\n",
    "a = -0.1 \n",
    "A = [[200, 75], [190, 100], [210, 100]]\n",
    "\n",
    "for i in range(10):\n",
    "    polygon(screen, (139, 0, 139), A)\n",
    "    for j in range(3):\n",
    "            x = (A[j][0] - 200)*np.cos(a) - (A[j][1] - 200)*np.sin(a) + 200\n",
    "            y = (A[j][0] - 200)*np.sin(a) + (A[j][1] - 200)*np.cos(a) + 200\n",
    "            A[j][1] = int(y)\n",
    "            A[j][0] = int(x)\n",
    "\n",
    "font = pygame.font.Font(None, 50)                                   #надпись\n",
    "text = font.render(\"PYTHON is AMAZING\", True, (0, 0, 0))\n",
    "screen.blit(text, (20, 5))            \n",
    "\n",
    "pygame.display.update()\n",
    "clock = pygame.time.Clock()\n",
    "finished = False\n",
    "\n",
    "while not finished:\n",
    "    clock.tick(FPS)\n",
    "    for event in pygame.event.get():\n",
    "        if event.type == pygame.QUIT:\n",
    "            finished = True\n",
    "    \n",
    "\n",
    "pygame.quit()"
   ]
  },
  {
   "cell_type": "code",
   "execution_count": null,
   "metadata": {},
   "outputs": [],
   "source": []
  }
 ],
 "metadata": {
  "kernelspec": {
   "display_name": "Python 3",
   "language": "python",
   "name": "python3"
  },
  "language_info": {
   "codemirror_mode": {
    "name": "ipython",
    "version": 3
   },
   "file_extension": ".py",
   "mimetype": "text/x-python",
   "name": "python",
   "nbconvert_exporter": "python",
   "pygments_lexer": "ipython3",
   "version": "3.8.3"
  }
 },
 "nbformat": 4,
 "nbformat_minor": 4
}
