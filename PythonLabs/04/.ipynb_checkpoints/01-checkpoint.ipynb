{
 "cells": [
  {
   "cell_type": "code",
   "execution_count": 11,
   "metadata": {},
   "outputs": [],
   "source": [
    "# Медведев Георгий; лаб.4, упр.1\n",
    "\n",
    "import pygame\n",
    "from pygame.draw import *\n",
    "\n",
    "pygame.init()\n",
    "\n",
    "FPS = 30\n",
    "screen = pygame.display.set_mode((400, 400))\n",
    "screen.fill((128, 128, 128))\n",
    "\n",
    "circle(screen, (255, 255, 0), (200, 200), 150)        #голова\n",
    "circle(screen, (255, 0, 0), (150, 150), 30)           #левый глаз\n",
    "circle(screen, (0, 0, 0), (150, 150), 10)\n",
    "circle(screen, (255, 0, 0), (250, 150), 20)           #правый глаз\n",
    "circle(screen, (0, 0, 0), (250, 150), 7)\n",
    "rect(screen, (0, 0, 0), ((100, 250), (200, 25)))      #рот\n",
    "polygon(screen, (0, 0, 0), [(80, 75), (180, 125),     #брови\n",
    "                               (175, 135), (75, 85)])\n",
    "polygon(screen, (0, 0, 0), [(320, 75), (220, 125),\n",
    "                               (225, 135), (325, 85)])\n",
    "\n",
    "\n",
    "pygame.display.update()\n",
    "clock = pygame.time.Clock()\n",
    "finished = False\n",
    "\n",
    "while not finished:\n",
    "    clock.tick(FPS)\n",
    "    for event in pygame.event.get():\n",
    "        if event.type == pygame.QUIT:\n",
    "            finished = True\n",
    "\n",
    "pygame.quit()"
   ]
  },
  {
   "cell_type": "code",
   "execution_count": null,
   "metadata": {},
   "outputs": [],
   "source": []
  }
 ],
 "metadata": {
  "kernelspec": {
   "display_name": "Python 3",
   "language": "python",
   "name": "python3"
  },
  "language_info": {
   "codemirror_mode": {
    "name": "ipython",
    "version": 3
   },
   "file_extension": ".py",
   "mimetype": "text/x-python",
   "name": "python",
   "nbconvert_exporter": "python",
   "pygments_lexer": "ipython3",
   "version": "3.8.3"
  }
 },
 "nbformat": 4,
 "nbformat_minor": 4
}
