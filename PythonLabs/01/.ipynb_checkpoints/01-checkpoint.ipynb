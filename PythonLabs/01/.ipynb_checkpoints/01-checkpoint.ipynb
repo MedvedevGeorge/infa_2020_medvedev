{
 "cells": [
  {
   "cell_type": "code",
   "execution_count": 3,
   "metadata": {},
   "outputs": [
    {
     "name": "stdout",
     "output_type": "stream",
     "text": [
      "[-2.90101126 -0.1475211  -0.10226675]\n"
     ]
    }
   ],
   "source": [
    "# Медведев Георгий; лаб.1, упр.1\n",
    "\n",
    "import numpy as np\n",
    "x = np.array([1.0, 10.0, 1000.0])\n",
    "print(np.log((1/(np.exp(np.sin(x)) + 1)) / ((5/4) + x ** -15)) / np.log(1 + x ** 2))\n"
   ]
  },
  {
   "cell_type": "code",
   "execution_count": null,
   "metadata": {},
   "outputs": [],
   "source": []
  }
 ],
 "metadata": {
  "kernelspec": {
   "display_name": "Python 3",
   "language": "python",
   "name": "python3"
  },
  "language_info": {
   "codemirror_mode": {
    "name": "ipython",
    "version": 3
   },
   "file_extension": ".py",
   "mimetype": "text/x-python",
   "name": "python",
   "nbconvert_exporter": "python",
   "pygments_lexer": "ipython3",
   "version": "3.8.3"
  }
 },
 "nbformat": 4,
 "nbformat_minor": 4
}
